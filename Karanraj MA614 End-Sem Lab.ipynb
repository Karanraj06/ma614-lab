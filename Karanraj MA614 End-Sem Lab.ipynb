{
 "cells": [
  {
   "cell_type": "markdown",
   "id": "ca1c27bb",
   "metadata": {},
   "source": [
    "# Solution (1)"
   ]
  },
  {
   "cell_type": "markdown",
   "id": "15be1cb9",
   "metadata": {},
   "source": [
    "## (i) Determine all the eigenvalues of A"
   ]
  },
  {
   "cell_type": "code",
   "execution_count": null,
   "id": "9f2c16bb",
   "metadata": {},
   "outputs": [
    {
     "data": {
      "text/plain": [
       "array([8.40267883, 5.        , 4.31603086, 3.28129031])"
      ]
     },
     "execution_count": 75,
     "metadata": {},
     "output_type": "execute_result"
    }
   ],
   "source": [
    "import numpy as np\n",
    "\n",
    "A = np.array([\n",
    "    [6, 1, 1, 1],\n",
    "    [1, 5, 1, 1],\n",
    "    [1, 1, 4, 1],\n",
    "    [1, 1, 1, 6]\n",
    "], dtype=np.float64)\n",
    "\n",
    "eigenvalues, eigenvectors = np.linalg.eig(A)\n",
    "\n",
    "eigenvalues # list of eigenvalues of A"
   ]
  },
  {
   "cell_type": "markdown",
   "id": "720b77e3",
   "metadata": {},
   "source": [
    "## (ii) Determine Y (t) corresponding to the given initial value problem."
   ]
  },
  {
   "cell_type": "code",
   "execution_count": null,
   "id": "b47bbcdd",
   "metadata": {},
   "outputs": [
    {
     "data": {
      "text/plain": [
       "array([[8.40267883, 0.        , 0.        , 0.        ],\n",
       "       [0.        , 5.        , 0.        , 0.        ],\n",
       "       [0.        , 0.        , 4.31603086, 0.        ],\n",
       "       [0.        , 0.        , 0.        , 3.28129031]])"
      ]
     },
     "execution_count": 77,
     "metadata": {},
     "output_type": "execute_result"
    }
   ],
   "source": [
    "D = np.diag(eigenvalues)\n",
    "D # diagonal matrix similar to A"
   ]
  },
  {
   "cell_type": "code",
   "execution_count": null,
   "id": "bcdb049f",
   "metadata": {},
   "outputs": [
    {
     "data": {
      "text/latex": [
       "$\\displaystyle \\left[\\begin{matrix}1.0 e^{8.40267882952118 t} & 0 & 0 & 0\\\\0 & 1.0 e^{5.0 t} & 0 & 0\\\\0 & 0 & 1.0 e^{4.31603086087072 t} & 0\\\\0 & 0 & 0 & 1.0 e^{3.28129030960808 t}\\end{matrix}\\right]$"
      ],
      "text/plain": [
       "Matrix([\n",
       "[1.0*exp(8.40267882952118*t),              0,                           0,                           0],\n",
       "[                          0, 1.0*exp(5.0*t),                           0,                           0],\n",
       "[                          0,              0, 1.0*exp(4.31603086087072*t),                           0],\n",
       "[                          0,              0,                           0, 1.0*exp(3.28129030960808*t)]])"
      ]
     },
     "execution_count": 82,
     "metadata": {},
     "output_type": "execute_result"
    }
   ],
   "source": [
    "from sympy import Matrix, symbols\n",
    "\n",
    "t = symbols('t')\n",
    "\n",
    "D = Matrix(D.tolist())\n",
    "\n",
    "Dt = D * t\n",
    "\n",
    "expDt = Dt.exp()\n",
    "\n",
    "expDt # e^tD"
   ]
  },
  {
   "cell_type": "code",
   "execution_count": null,
   "id": "7247f300",
   "metadata": {},
   "outputs": [
    {
     "data": {
      "text/latex": [
       "$\\displaystyle \\left[\\begin{matrix}- 0.0381495200542136 e^{3.28129030960808 t} - 0.0983550967727958 e^{4.31603086087072 t} + 1.33226762955019 \\cdot 10^{-15} e^{5.0 t} + 1.13650461682701 e^{8.40267882952118 t}\\\\- 0.091230090087172 e^{3.28129030960808 t} + 0.212864815427578 e^{4.31603086087072 t} - 8.87468518373638 \\cdot 10^{-31} e^{5.0 t} + 0.878365274659594 e^{8.40267882952118 t}\\\\0.233097079996577 e^{3.28129030960808 t} + 0.0511172289866793 e^{4.31603086087072 t} - 2.95822839457879 \\cdot 10^{-31} e^{5.0 t} + 0.715785691016744 e^{8.40267882952118 t}\\\\- 0.0381495200542137 e^{3.28129030960808 t} - 0.0983550967727962 e^{4.31603086087072 t} - 1.27675647831893 \\cdot 10^{-15} e^{5.0 t} + 1.13650461682701 e^{8.40267882952118 t}\\end{matrix}\\right]$"
      ],
      "text/plain": [
       "Matrix([\n",
       "[-0.0381495200542136*exp(3.28129030960808*t) - 0.0983550967727958*exp(4.31603086087072*t) + 1.33226762955019e-15*exp(5.0*t) + 1.13650461682701*exp(8.40267882952118*t)],\n",
       "[ -0.091230090087172*exp(3.28129030960808*t) + 0.212864815427578*exp(4.31603086087072*t) - 8.87468518373638e-31*exp(5.0*t) + 0.878365274659594*exp(8.40267882952118*t)],\n",
       "[ 0.233097079996577*exp(3.28129030960808*t) + 0.0511172289866793*exp(4.31603086087072*t) - 2.95822839457879e-31*exp(5.0*t) + 0.715785691016744*exp(8.40267882952118*t)],\n",
       "[-0.0381495200542137*exp(3.28129030960808*t) - 0.0983550967727962*exp(4.31603086087072*t) - 1.27675647831893e-15*exp(5.0*t) + 1.13650461682701*exp(8.40267882952118*t)]])"
      ]
     },
     "execution_count": 83,
     "metadata": {},
     "output_type": "execute_result"
    }
   ],
   "source": [
    "P = eigenvectors\n",
    "P_inv = np.linalg.inv(P)\n",
    "\n",
    "P = Matrix(P.tolist())\n",
    "P_inv = Matrix(P_inv.tolist())\n",
    "\n",
    "y_0 = Matrix([[1], [1], [1], [1]])\n",
    "\n",
    "y = P * expDt * P.inv() * y_0 # Here we used the result that y = P @ e^tD @ P^-1 @ y0\n",
    "\n",
    "y # solution to the given IVP"
   ]
  },
  {
   "cell_type": "markdown",
   "id": "bc5c34a8",
   "metadata": {},
   "source": [
    "## (iii) Whether the answer Y (t) is asymptotically stable? Justify your answer.\n",
    "\n",
    "### Answer - y(t) is asymptotically unstable and the given system is an unstable system\n",
    "\n",
    "For the given system, the real part of all eigenvalues of A is greater 1 which implies all components of y(t) tend to infinity as t tends to infinity. Therefore, y(t) is unstable asymptotically and the given system in an unstable system."
   ]
  },
  {
   "cell_type": "markdown",
   "id": "1e6c5b93",
   "metadata": {},
   "source": [
    "# Solution (2)"
   ]
  },
  {
   "cell_type": "markdown",
   "id": "720fb5d7",
   "metadata": {},
   "source": [
    "## (i) Use Gaussian Elimination method to solve this problem."
   ]
  },
  {
   "cell_type": "code",
   "execution_count": 73,
   "id": "5d9aef99",
   "metadata": {},
   "outputs": [
    {
     "data": {
      "text/plain": [
       "array([ 0.55630252,  0.44537815,  0.2605042 , -0.04369748])"
      ]
     },
     "execution_count": 73,
     "metadata": {},
     "output_type": "execute_result"
    }
   ],
   "source": [
    "A = np.array([\n",
    "    [6, 1, 1, 1],\n",
    "    [1, 5, 1, 1],\n",
    "    [1, 1, 4, 1],\n",
    "    [1, 1, 1, 6]\n",
    "], dtype=np.float64)\n",
    "\n",
    "b = np.array([4, 3, 2, 1], dtype=np.float64)\n",
    "\n",
    "x = np.linalg.solve(A, b)\n",
    "\n",
    "x"
   ]
  },
  {
   "cell_type": "markdown",
   "id": "0da70e37",
   "metadata": {},
   "source": [
    "### Answer is x = [ 0.55630252,  0.44537815,  0.2605042 , -0.04369748]"
   ]
  },
  {
   "cell_type": "markdown",
   "id": "5b9b5e18",
   "metadata": {},
   "source": [
    "## (ii) Jacobi iteration"
   ]
  },
  {
   "cell_type": "code",
   "execution_count": 19,
   "id": "b4d43560",
   "metadata": {},
   "outputs": [],
   "source": [
    "L = np.array([\n",
    "    [0, 0, 0, 0],\n",
    "    [1, 0, 0, 0],\n",
    "    [1, 1, 0, 0],\n",
    "    [1, 1, 1, 0]\n",
    "], dtype=np.float64)\n",
    "\n",
    "D = np.array([\n",
    "    [6, 0, 0, 0],\n",
    "    [0, 5, 0, 0],\n",
    "    [0, 0, 4, 0],\n",
    "    [0, 0, 0, 6]\n",
    "], dtype=np.float64)\n",
    "\n",
    "U = np.array([\n",
    "    [0, 1, 1, 1],\n",
    "    [0, 0, 1, 1],\n",
    "    [0, 0, 0, 1],\n",
    "    [0, 0, 0, 0]\n",
    "], dtype=np.float64)"
   ]
  },
  {
   "cell_type": "code",
   "execution_count": 20,
   "id": "22efb1cf",
   "metadata": {},
   "outputs": [
    {
     "data": {
      "text/plain": [
       "array([[ 0.        , -0.16666667, -0.16666667, -0.16666667],\n",
       "       [-0.2       ,  0.        , -0.2       , -0.2       ],\n",
       "       [-0.25      , -0.25      ,  0.        , -0.25      ],\n",
       "       [-0.16666667, -0.16666667, -0.16666667,  0.        ]])"
      ]
     },
     "execution_count": 20,
     "metadata": {},
     "output_type": "execute_result"
    }
   ],
   "source": [
    "D_inv = np.linalg.inv(D)\n",
    "T = -D_inv @ (L + U)\n",
    "T"
   ]
  },
  {
   "cell_type": "code",
   "execution_count": 24,
   "id": "909c60ff",
   "metadata": {},
   "outputs": [
    {
     "data": {
      "text/plain": [
       "array([ 0.5562969 ,  0.44537169,  0.26049661, -0.0437031 ])"
      ]
     },
     "execution_count": 24,
     "metadata": {},
     "output_type": "execute_result"
    }
   ],
   "source": [
    "b = np.array([4, 3, 2, 1], dtype=np.float64)\n",
    "c = D_inv @ b\n",
    "u_prev = np.array([0, 0, 0, 0], dtype=np.float64)\n",
    "\n",
    "for k in range(0, 20):\n",
    "    u_next = T @ u_prev + c\n",
    "    u_prev = u_next\n",
    "\n",
    "u_next"
   ]
  },
  {
   "cell_type": "markdown",
   "id": "e59129c1",
   "metadata": {},
   "source": [
    "### Answer is u_20 = [ 0.5562969 ,  0.44537169,  0.26049661, -0.0437031 ]"
   ]
  },
  {
   "cell_type": "markdown",
   "id": "0c46405f",
   "metadata": {},
   "source": [
    "# Solution (3)\n",
    "\n",
    "Mistake - Work with B.T\n",
    "\n",
    "### We use Perron-Frobenius Theorem"
   ]
  },
  {
   "cell_type": "code",
   "execution_count": 25,
   "id": "aa7e0e12",
   "metadata": {},
   "outputs": [],
   "source": [
    "import numpy as np\n",
    "\n",
    "B = np.array([\n",
    "    [0, 0.5, 0.3, 0.6],\n",
    "    [0.3, 0, 0.4, 0.1],\n",
    "    [0.3, 0.4, 0, 0.3],\n",
    "    [0.4, 0.1, 0.3, 0]\n",
    "], dtype=np.float64)"
   ]
  },
  {
   "cell_type": "code",
   "execution_count": 26,
   "id": "a18225e8",
   "metadata": {},
   "outputs": [
    {
     "data": {
      "text/plain": [
       "array([[0.48, 0.18, 0.38, 0.14],\n",
       "       [0.16, 0.32, 0.12, 0.3 ],\n",
       "       [0.24, 0.18, 0.34, 0.22],\n",
       "       [0.12, 0.32, 0.16, 0.34]])"
      ]
     },
     "execution_count": 26,
     "metadata": {},
     "output_type": "execute_result"
    }
   ],
   "source": [
    "B @ B"
   ]
  },
  {
   "cell_type": "markdown",
   "id": "bcb5f2a2",
   "metadata": {},
   "source": [
    "### B^2 has all entries non-zero, therefore we can apply Perron-Frobenius theorem to get the steady state probability vector which is the eigenvector corresponding to eigenvalue 1."
   ]
  },
  {
   "cell_type": "code",
   "execution_count": 27,
   "id": "ba097e99",
   "metadata": {},
   "outputs": [
    {
     "name": "stdout",
     "output_type": "stream",
     "text": [
      "eigenvalues:\n",
      "[ 1.         -0.05857864 -0.6        -0.34142136]\n",
      "\n",
      "eigenvectors:\n",
      "[[ 0.62258139  0.27059805 -0.76200076 -0.65328148]\n",
      " [ 0.42606827 -0.65328148  0.38100038 -0.27059805]\n",
      " [ 0.48867422 -0.27059805 -0.12700013  0.65328148]\n",
      " [ 0.43824165  0.65328148  0.50800051  0.27059805]]\n",
      "\n"
     ]
    }
   ],
   "source": [
    "eigenvalues, eigenvectors = np.linalg.eig(B)\n",
    "\n",
    "print(f'eigenvalues:\\n{eigenvalues}\\n')\n",
    "print(f'eigenvectors:\\n{eigenvectors}\\n')"
   ]
  },
  {
   "cell_type": "markdown",
   "id": "2850addf",
   "metadata": {},
   "source": [
    "### 1st column of eigenvectors is the steady state probability vector - we can normalize it to obtain a probability vector"
   ]
  },
  {
   "cell_type": "code",
   "execution_count": 28,
   "id": "b077a82b",
   "metadata": {},
   "outputs": [
    {
     "data": {
      "text/plain": [
       "array([0.62258139, 0.42606827, 0.48867422, 0.43824165])"
      ]
     },
     "execution_count": 28,
     "metadata": {},
     "output_type": "execute_result"
    }
   ],
   "source": [
    "u_star = eigenvectors[:, 0]\n",
    "u_star"
   ]
  },
  {
   "cell_type": "code",
   "execution_count": 29,
   "id": "14b50296",
   "metadata": {},
   "outputs": [
    {
     "data": {
      "text/plain": [
       "array([0.31514085, 0.21566901, 0.24735915, 0.22183099])"
      ]
     },
     "execution_count": 29,
     "metadata": {},
     "output_type": "execute_result"
    }
   ],
   "source": [
    "s = np.sum(u_star)\n",
    "u_star /= s\n",
    "u_star"
   ]
  },
  {
   "cell_type": "markdown",
   "id": "1b5ef9b7",
   "metadata": {},
   "source": [
    "### Final answer - a1 is most visited and a2 is least visited\n",
    "\n",
    "probability vector u_star is [0.31514085, 0.21566901, 0.24735915, 0.22183099]"
   ]
  },
  {
   "cell_type": "markdown",
   "id": "5354766c",
   "metadata": {},
   "source": [
    "# Solution (4)\n",
    "\n",
    "Wrong\n",
    "\n",
    "Can use formula for - Matrix Functions Via Jordan Canonical Form\n",
    "\n",
    "or use\n",
    "\n",
    "```py\n",
    "from scipy.linalg import sinm, cosm\n",
    "```"
   ]
  },
  {
   "cell_type": "code",
   "execution_count": 30,
   "id": "577dc718",
   "metadata": {},
   "outputs": [
    {
     "name": "stdout",
     "output_type": "stream",
     "text": [
      "eigenvals:\n",
      "[5. 5.]\n",
      "\n",
      "eigenvects:\n",
      "[[ 0.70710678 -0.70710678]\n",
      " [ 0.70710678 -0.70710678]]\n",
      "\n"
     ]
    }
   ],
   "source": [
    "import numpy as np\n",
    "\n",
    "M = np.array([\n",
    "    [4, 1],\n",
    "    [-1, 6]\n",
    "], dtype=np.float64)\n",
    "\n",
    "eigenvals, eigenvects = np.linalg.eig(M)\n",
    "\n",
    "print(f'eigenvals:\\n{eigenvals}\\n')\n",
    "print(f'eigenvects:\\n{eigenvects}\\n')"
   ]
  },
  {
   "cell_type": "markdown",
   "id": "071b5e04",
   "metadata": {},
   "source": [
    "### So, A is not diagonalizable. We go for JCF for which we'll use sympy"
   ]
  },
  {
   "cell_type": "code",
   "execution_count": null,
   "id": "28df929f",
   "metadata": {},
   "outputs": [
    {
     "data": {
      "text/latex": [
       "$\\displaystyle \\left[\\begin{matrix}5 & 1\\\\0 & 5\\end{matrix}\\right]$"
      ],
      "text/plain": [
       "Matrix([\n",
       "[5, 1],\n",
       "[0, 5]])"
      ]
     },
     "execution_count": 40,
     "metadata": {},
     "output_type": "execute_result"
    }
   ],
   "source": [
    "from sympy import Matrix\n",
    "\n",
    "M = Matrix([\n",
    "    [4, 1],\n",
    "    [-1, 6]\n",
    "])\n",
    "\n",
    "P, J = M.jordan_form()"
   ]
  },
  {
   "cell_type": "code",
   "execution_count": 41,
   "id": "12393814",
   "metadata": {},
   "outputs": [
    {
     "data": {
      "text/latex": [
       "$\\displaystyle \\left[\\begin{matrix}-1 & 1\\\\-1 & 0\\end{matrix}\\right]$"
      ],
      "text/plain": [
       "Matrix([\n",
       "[-1, 1],\n",
       "[-1, 0]])"
      ]
     },
     "execution_count": 41,
     "metadata": {},
     "output_type": "execute_result"
    }
   ],
   "source": [
    "P"
   ]
  },
  {
   "cell_type": "code",
   "execution_count": 42,
   "id": "4a7600d9",
   "metadata": {},
   "outputs": [
    {
     "data": {
      "text/latex": [
       "$\\displaystyle \\left[\\begin{matrix}5 & 1\\\\0 & 5\\end{matrix}\\right]$"
      ],
      "text/plain": [
       "Matrix([\n",
       "[5, 1],\n",
       "[0, 5]])"
      ]
     },
     "execution_count": 42,
     "metadata": {},
     "output_type": "execute_result"
    }
   ],
   "source": [
    "J"
   ]
  },
  {
   "cell_type": "markdown",
   "id": "268196e1",
   "metadata": {},
   "source": [
    "### There's no function in sympy to compute sin and cos of the 2x2 Jordan block directly. Instead, we use taylor series expansion of sin and cos.\n",
    "\n",
    "Write J as lamda*I + N, N is nilpotent with m = 2 (N^m = O)"
   ]
  },
  {
   "cell_type": "code",
   "execution_count": null,
   "id": "3cb8e2ca",
   "metadata": {},
   "outputs": [],
   "source": [
    "P = np.array([\n",
    "    [-1, 1],\n",
    "    [-1, 0]\n",
    "], dtype=np.float64)\n",
    "\n",
    "P_inv = np.linalg.inv(P)\n",
    "\n",
    "# for sin\n",
    "# A1 is the nilpotent matrix part in the 2x2 Jordan block\n",
    "A1 = np.array([\n",
    "    [0, 1],\n",
    "    [0, 0]\n",
    "], dtype=np.float64)\n",
    "\n",
    "sin_D = np.diag(np.sin(eigenvals)) + A1     # by expanding the taylor series of sin\n",
    "\n",
    "# for cos\n",
    "cos_D = np.diag(np.cos(eigenvals)) + np.eye(2)      # by expanding the taylor series of cos"
   ]
  },
  {
   "cell_type": "code",
   "execution_count": 47,
   "id": "4086a61f",
   "metadata": {},
   "outputs": [
    {
     "data": {
      "text/plain": [
       "array([[-1.95892427,  1.        ],\n",
       "       [-1.        ,  0.04107573]])"
      ]
     },
     "execution_count": 47,
     "metadata": {},
     "output_type": "execute_result"
    }
   ],
   "source": [
    "sin_M = P @ sin_D @ P_inv\n",
    "\n",
    "sin_M"
   ]
  },
  {
   "cell_type": "code",
   "execution_count": 48,
   "id": "04d17e4e",
   "metadata": {},
   "outputs": [
    {
     "data": {
      "text/plain": [
       "array([[1.28366219, 0.        ],\n",
       "       [0.        , 1.28366219]])"
      ]
     },
     "execution_count": 48,
     "metadata": {},
     "output_type": "execute_result"
    }
   ],
   "source": [
    "cos_M = P @ cos_D @ P_inv\n",
    "\n",
    "cos_M"
   ]
  },
  {
   "cell_type": "code",
   "execution_count": 49,
   "id": "a5f42c6e",
   "metadata": {},
   "outputs": [
    {
     "data": {
      "text/plain": [
       "array([[ 4.48517292, -1.91784855],\n",
       "       [ 1.91784855,  0.64947582]])"
      ]
     },
     "execution_count": 49,
     "metadata": {},
     "output_type": "execute_result"
    }
   ],
   "source": [
    "sin_M @ sin_M + cos_M @ cos_M"
   ]
  },
  {
   "cell_type": "markdown",
   "id": "53589e0c",
   "metadata": {},
   "source": [
    "# Solution (5)\n",
    "\n",
    "Missed\n",
    "\n",
    "```py\n",
    "sorted_idx = np.argsort(eigenvalues)[::-1]\n",
    "eigenvalues = eigenvalues[sorted_idx]\n",
    "eigenvectors = eigenvectors[:, sorted_idx]\n",
    "```"
   ]
  },
  {
   "cell_type": "code",
   "execution_count": 117,
   "id": "63a2b51b",
   "metadata": {},
   "outputs": [
    {
     "data": {
      "text/plain": [
       "array([[7.5, 7.5, 7. , 5. , 8. ],\n",
       "       [7.5, 6. , 5.5, 6. , 7.5],\n",
       "       [7. , 7.5, 7. , 5. , 7. ],\n",
       "       [6.5, 5. , 6. , 5. , 7. ],\n",
       "       [9. , 8. , 7.5, 6. , 8. ],\n",
       "       [6.5, 5. , 6. , 3.5, 7. ],\n",
       "       [7.5, 7.5, 5.5, 6. , 7. ],\n",
       "       [7. , 7. , 6. , 5. , 7.5],\n",
       "       [7.5, 6. , 6.5, 6. , 8. ],\n",
       "       [8.5, 8. , 7. , 6. , 8. ]])"
      ]
     },
     "execution_count": 117,
     "metadata": {},
     "output_type": "execute_result"
    }
   ],
   "source": [
    "X = np.loadtxt('Question5.csv', delimiter=',')\n",
    "X       # given data matrix"
   ]
  },
  {
   "cell_type": "code",
   "execution_count": 118,
   "id": "d84b0400",
   "metadata": {},
   "outputs": [
    {
     "data": {
      "text/plain": [
       "array([[-4.99691872e-01, -6.03377620e-01,  3.61195782e-01,\n",
       "        -1.69706480e-01],\n",
       "       [ 1.71276697e-01, -3.72104519e-02, -6.13034085e-01,\n",
       "         3.06898100e-01],\n",
       "       [-1.83781750e-01,  5.55439645e-01,  5.29380480e-01,\n",
       "         5.36005136e-01],\n",
       "       [-6.51638316e-04,  5.21532390e-01,  1.61673138e-02,\n",
       "        -7.66457905e-01],\n",
       "       [ 8.28972961e-01, -2.32468485e-01,  4.61759399e-01,\n",
       "        -4.74767386e-02]])"
      ]
     },
     "execution_count": 118,
     "metadata": {},
     "output_type": "execute_result"
    }
   ],
   "source": [
    "X_c = X - np.mean(X, axis=0)\n",
    "\n",
    "K = (X_c.T @ X_c) / 9\n",
    "\n",
    "eigenvalues, eigenvectors = np.linalg.eigh(K)\n",
    "\n",
    "W = eigenvectors[:, :4]\n",
    "W       # all 5 principal components"
   ]
  },
  {
   "cell_type": "code",
   "execution_count": 119,
   "id": "11f1c7c2",
   "metadata": {},
   "outputs": [
    {
     "data": {
      "text/plain": [
       "array([7.45, 6.75, 6.4 , 5.35, 7.5 ])"
      ]
     },
     "execution_count": 119,
     "metadata": {},
     "output_type": "execute_result"
    }
   ],
   "source": [
    "mu = np.mean(X, axis=0)\n",
    "mu      # mean vector"
   ]
  },
  {
   "cell_type": "code",
   "execution_count": 120,
   "id": "3c31f35a",
   "metadata": {},
   "outputs": [
    {
     "data": {
      "text/plain": [
       "array([-0.45, -0.75,  0.65,  0.  ])"
      ]
     },
     "execution_count": 120,
     "metadata": {},
     "output_type": "execute_result"
    }
   ],
   "source": [
    "# x is the given rating with 3rd component missing\n",
    "# first center x using the mean vector mu\n",
    "x = np.array([7 - 7.45, 6 - 6.75, 6 - 5.35, 7.5 - 7.5 ])\n",
    "x"
   ]
  },
  {
   "cell_type": "code",
   "execution_count": null,
   "id": "98859c9f",
   "metadata": {},
   "outputs": [
    {
     "data": {
      "text/plain": [
       "array([[-4.99691872e-01, -6.03377620e-01,  3.61195782e-01,\n",
       "        -1.69706480e-01],\n",
       "       [ 1.71276697e-01, -3.72104519e-02, -6.13034085e-01,\n",
       "         3.06898100e-01],\n",
       "       [-6.51638316e-04,  5.21532390e-01,  1.61673138e-02,\n",
       "        -7.66457905e-01],\n",
       "       [ 8.28972961e-01, -2.32468485e-01,  4.61759399e-01,\n",
       "        -4.74767386e-02]])"
      ]
     },
     "execution_count": 108,
     "metadata": {},
     "output_type": "execute_result"
    }
   ],
   "source": [
    "# x is in the best 4D subspace\n",
    "# So, we can write x as x = Wz for some z\n",
    "# We'll find z\n",
    "\n",
    "# Compute W without 3rd row\n",
    "# as 3rd row of W is used to get the 3rd component of x (which is to be calculated)\n",
    "A = []\n",
    "for i in range(5):\n",
    "    if i == 2:\n",
    "        continue\n",
    "    a = W[i]\n",
    "    A.append(list(a))\n",
    "\n",
    "A = np.array(A)\n",
    "A"
   ]
  },
  {
   "cell_type": "code",
   "execution_count": null,
   "id": "a84e7dfd",
   "metadata": {},
   "outputs": [
    {
     "data": {
      "text/plain": [
       "array([-0.21058306,  1.56494356,  1.19079709,  0.24209806])"
      ]
     },
     "execution_count": 113,
     "metadata": {},
     "output_type": "execute_result"
    }
   ],
   "source": [
    "# solve Wz = x for z\n",
    "z = np.linalg.solve(A, x)\n",
    "z"
   ]
  },
  {
   "cell_type": "code",
   "execution_count": null,
   "id": "21648935",
   "metadata": {},
   "outputs": [
    {
     "data": {
      "text/plain": [
       "array([7.        , 6.        , 8.06808356, 6.        , 7.5       ])"
      ]
     },
     "execution_count": 115,
     "metadata": {},
     "output_type": "execute_result"
    }
   ],
   "source": [
    "W @ z + mu  # x = Wz + mu   adding back the mean vector"
   ]
  },
  {
   "cell_type": "markdown",
   "id": "857fc614",
   "metadata": {},
   "source": [
    "## Answer is - value of * is 8.0680835"
   ]
  }
 ],
 "metadata": {
  "kernelspec": {
   "display_name": ".venv",
   "language": "python",
   "name": "python3"
  },
  "language_info": {
   "codemirror_mode": {
    "name": "ipython",
    "version": 3
   },
   "file_extension": ".py",
   "mimetype": "text/x-python",
   "name": "python",
   "nbconvert_exporter": "python",
   "pygments_lexer": "ipython3",
   "version": "3.10.12"
  }
 },
 "nbformat": 4,
 "nbformat_minor": 5
}
