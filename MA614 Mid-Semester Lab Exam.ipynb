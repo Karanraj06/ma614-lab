{
 "cells": [
  {
   "cell_type": "code",
   "execution_count": 6,
   "metadata": {},
   "outputs": [],
   "source": [
    "import numpy as np\n",
    "from numpy.typing import NDArray"
   ]
  },
  {
   "cell_type": "code",
   "execution_count": 7,
   "metadata": {},
   "outputs": [],
   "source": [
    "def lu_decomposition(A: NDArray[np.float64]) -> tuple[NDArray[np.float64], NDArray[np.float64]]:\n",
    "    '''\n",
    "    Perform LU decomposition on an invertible matrix A (A = LU)\n",
    "    Assumes LU decomposition exists (permutation matrix not required)\n",
    "    \n",
    "    params:\n",
    "        A - (n, n) invertible matrix\n",
    "    \n",
    "    returns:\n",
    "        L - (n, n) unit lower triangular matrix (diagonal entries are 1)\n",
    "        U - (n, n) upper triangular matrix (row echleon form of A)\n",
    "    '''\n",
    "    n = A.shape[0]\n",
    "    L = np.eye(n, dtype=np.float64)\n",
    "    U = A.astype(np.float64).copy()\n",
    "    \n",
    "    for i in range(n):\n",
    "        for j in range(i + 1, n):\n",
    "            if np.isclose(U[i, i], 0):\n",
    "                raise ValueError('A is singular or nearly singular.')\n",
    "            \n",
    "            c = U[j, i] / U[i, i]\n",
    "            U[j, i:] -= c * U[i, i:]\n",
    "            L[j, i] = c\n",
    "    \n",
    "    return L, U"
   ]
  },
  {
   "cell_type": "code",
   "execution_count": 11,
   "metadata": {},
   "outputs": [
    {
     "name": "stdout",
     "output_type": "stream",
     "text": [
      "[[1. 0. 0.]\n",
      " [2. 1. 0.]\n",
      " [3. 2. 1.]]\n",
      "\n",
      "[[ 1.  2.  2.]\n",
      " [ 0. -1.  0.]\n",
      " [ 0.  0.  3.]]\n"
     ]
    },
    {
     "data": {
      "text/plain": [
       "array([[1., 2., 2.],\n",
       "       [2., 3., 4.],\n",
       "       [3., 4., 9.]])"
      ]
     },
     "execution_count": 11,
     "metadata": {},
     "output_type": "execute_result"
    }
   ],
   "source": [
    "# test the above fn\n",
    "# NOT part of question paper\n",
    "A1 = np.array([\n",
    "    [1, 2, 2],\n",
    "    [2, 3, 4],\n",
    "    [3, 4, 9]\n",
    "])\n",
    "\n",
    "L, U = lu_decomposition(A1)\n",
    "print(L, U, sep='\\n\\n')\n",
    "\n",
    "L @ U"
   ]
  },
  {
   "cell_type": "markdown",
   "metadata": {},
   "source": [
    "### Solve Ax = b using LU decomposition\n",
    "\n",
    "Ax = b\n",
    "\n",
    "A = LU\n",
    "\n",
    "LUx = b\n",
    "\n",
    "Put Ux = y\n",
    "\n",
    "1. Forward substitution - solve Ly = b for y\n",
    "\n",
    "2. Backward substitution - solve Ux = y for x"
   ]
  },
  {
   "cell_type": "code",
   "execution_count": 12,
   "metadata": {},
   "outputs": [],
   "source": [
    "def forward_substitution(L: NDArray[np.float64], b: NDArray[np.float64]) -> NDArray[np.float64]:\n",
    "    '''\n",
    "    Solves for y (Ly = b)\n",
    "    \n",
    "    params:\n",
    "        L - (n, n) unit lower triangular matrix (diagonal entries are 1)\n",
    "        b - (n,) constants vector\n",
    "    \n",
    "    returns:\n",
    "        y - (n,) variables vector\n",
    "    '''\n",
    "    n = L.shape[0]\n",
    "    y = np.zeros(n, dtype=np.float64)\n",
    "    \n",
    "    for i in range(n):\n",
    "        y[i] = b[i] - np.dot(L[i, :i], y[:i])\n",
    "    \n",
    "    return y"
   ]
  },
  {
   "cell_type": "code",
   "execution_count": 33,
   "metadata": {},
   "outputs": [],
   "source": [
    "# b = np.array([2, 3, 10])\n",
    "# x = np.linalg.solve(A1, b)"
   ]
  },
  {
   "cell_type": "code",
   "execution_count": 34,
   "metadata": {},
   "outputs": [
    {
     "name": "stdout",
     "output_type": "stream",
     "text": [
      "x is [-4.  1.  2.]\n",
      "b is [ 2  3 10]\n"
     ]
    }
   ],
   "source": [
    "# print(f'x is {x}')\n",
    "# print(f'b is {b}')"
   ]
  },
  {
   "cell_type": "code",
   "execution_count": 35,
   "metadata": {},
   "outputs": [
    {
     "data": {
      "text/plain": [
       "array([ 2.,  3., 10.])"
      ]
     },
     "execution_count": 35,
     "metadata": {},
     "output_type": "execute_result"
    }
   ],
   "source": [
    "# A1 @ x"
   ]
  },
  {
   "cell_type": "code",
   "execution_count": 36,
   "metadata": {},
   "outputs": [
    {
     "data": {
      "text/plain": [
       "array([ 2., -1.,  6.])"
      ]
     },
     "execution_count": 36,
     "metadata": {},
     "output_type": "execute_result"
    }
   ],
   "source": [
    "# y = forward_substitution(L, b)\n",
    "# y"
   ]
  },
  {
   "cell_type": "code",
   "execution_count": 14,
   "metadata": {},
   "outputs": [],
   "source": [
    "def backward_substitution(U: NDArray[np.float64], y: NDArray[np.float64]) -> NDArray[np.float64]:\n",
    "    '''\n",
    "    Solves for x (Ux = y)\n",
    "    \n",
    "    params:\n",
    "        U - (n, n) upper triangular matrix (row echleon form of A)\n",
    "        y - (n,)\n",
    "    \n",
    "    returns:\n",
    "        x - (n,) variables vector\n",
    "    '''\n",
    "    n = U.shape[0]\n",
    "    x = np.zeros(n, dtype=np.float64)\n",
    "    \n",
    "    for i in range(n - 1, -1, -1):\n",
    "        x[i] = (y[i] - np.dot(U[i, i + 1 :], x[i + 1 :])) / U[i, i]\n",
    "    \n",
    "    return x"
   ]
  },
  {
   "cell_type": "code",
   "execution_count": 38,
   "metadata": {},
   "outputs": [
    {
     "data": {
      "text/plain": [
       "array([-4.,  1.,  2.])"
      ]
     },
     "execution_count": 38,
     "metadata": {},
     "output_type": "execute_result"
    }
   ],
   "source": [
    "# x = backward_substitution(U, y)\n",
    "# x"
   ]
  },
  {
   "cell_type": "code",
   "execution_count": 47,
   "metadata": {},
   "outputs": [],
   "source": [
    "# def lu_solve(A: NDArray[np.float64], b: NDArray[np.float64]) -> NDArray[np.float64]:\n",
    "#     '''\n",
    "#     explain it later\n",
    "#     '''\n",
    "#     L, U = lu_decomposition(A)\n",
    "#     y = forward_substitution(L, b)\n",
    "#     x = backward_substitution(U, y)\n",
    "    \n",
    "#     return x"
   ]
  },
  {
   "cell_type": "code",
   "execution_count": 48,
   "metadata": {},
   "outputs": [
    {
     "name": "stdout",
     "output_type": "stream",
     "text": [
      "[-4.  1.  2.]\n"
     ]
    }
   ],
   "source": [
    "# x = lu_solve(A1, b)\n",
    "# print(x)"
   ]
  },
  {
   "cell_type": "markdown",
   "metadata": {},
   "source": [
    "# Solution 1"
   ]
  },
  {
   "cell_type": "code",
   "execution_count": 15,
   "metadata": {},
   "outputs": [],
   "source": [
    "A = np.array([\n",
    "    [1, 0, -1, 0],\n",
    "    [0, 2, -1, -1],\n",
    "    [-1, 3, 0, 2],\n",
    "    [0, -1, 2, 1]\n",
    "], dtype=np.float64)"
   ]
  },
  {
   "cell_type": "code",
   "execution_count": 16,
   "metadata": {},
   "outputs": [
    {
     "name": "stdout",
     "output_type": "stream",
     "text": [
      "L:\n",
      "[[ 1.   0.   0.   0. ]\n",
      " [ 0.   1.   0.   0. ]\n",
      " [-1.   1.5  1.   0. ]\n",
      " [ 0.  -0.5  3.   1. ]]\n",
      "\n",
      "U:\n",
      "[[  1.    0.   -1.    0. ]\n",
      " [  0.    2.   -1.   -1. ]\n",
      " [  0.    0.    0.5   3.5]\n",
      " [  0.    0.    0.  -10. ]]\n"
     ]
    }
   ],
   "source": [
    "L, U = lu_decomposition(A)\n",
    "\n",
    "print(f'L:\\n{L}\\n\\nU:\\n{U}')"
   ]
  },
  {
   "cell_type": "code",
   "execution_count": 17,
   "metadata": {},
   "outputs": [
    {
     "data": {
      "text/plain": [
       "array([[ 1.,  0., -1.,  0.],\n",
       "       [ 0.,  2., -1., -1.],\n",
       "       [-1.,  3.,  0.,  2.],\n",
       "       [ 0., -1.,  2.,  1.]])"
      ]
     },
     "execution_count": 17,
     "metadata": {},
     "output_type": "execute_result"
    }
   ],
   "source": [
    "L @ U"
   ]
  },
  {
   "cell_type": "markdown",
   "metadata": {},
   "source": [
    "# Solution 2"
   ]
  },
  {
   "cell_type": "code",
   "execution_count": 18,
   "metadata": {},
   "outputs": [],
   "source": [
    "def lu_sol(L: NDArray[np.float64], U: NDArray[np.float64], b: NDArray[np.float64]) -> NDArray[np.float64]:\n",
    "    '''\n",
    "    We have the L and U matrices from the fn lu_decomposition\n",
    "    Next, we use forward and backward substitutions to solve the system Ax = b for x\n",
    "    \n",
    "    params:\n",
    "        L - (n, n)\n",
    "        U - (n, n)\n",
    "        b - (n,)\n",
    "    \n",
    "    returns:\n",
    "        x - (n,)\n",
    "    '''\n",
    "    y = forward_substitution(L, b)\n",
    "    x = backward_substitution(U, y)\n",
    "    \n",
    "    return x"
   ]
  },
  {
   "cell_type": "code",
   "execution_count": 19,
   "metadata": {},
   "outputs": [
    {
     "name": "stdout",
     "output_type": "stream",
     "text": [
      "x1:\n",
      "[ 0.9  0.1 -0.1  0.3]\n"
     ]
    }
   ],
   "source": [
    "e1 = np.array([1, 0, 0, 0], dtype=np.float64)\n",
    "x1 = lu_sol(L, U, e1)\n",
    "print(f'x1:\\n{x1}')"
   ]
  },
  {
   "cell_type": "code",
   "execution_count": 20,
   "metadata": {},
   "outputs": [
    {
     "name": "stdout",
     "output_type": "stream",
     "text": [
      "x2:\n",
      "[ 0.5  0.5  0.5 -0.5]\n"
     ]
    }
   ],
   "source": [
    "e2 = np.array([0, 1, 0, 0], dtype=np.float64)\n",
    "x2 = lu_sol(L, U, e2)\n",
    "print(f'x2:\\n{x2}')"
   ]
  },
  {
   "cell_type": "code",
   "execution_count": 21,
   "metadata": {},
   "outputs": [
    {
     "name": "stdout",
     "output_type": "stream",
     "text": [
      "x3:\n",
      "[-0.1  0.1 -0.1  0.3]\n"
     ]
    }
   ],
   "source": [
    "e3 = np.array([0, 0, 1, 0], dtype=np.float64)\n",
    "x3 = lu_sol(L, U, e3)\n",
    "print(f'x3:\\n{x3}')"
   ]
  },
  {
   "cell_type": "code",
   "execution_count": 22,
   "metadata": {},
   "outputs": [
    {
     "name": "stdout",
     "output_type": "stream",
     "text": [
      "x4:\n",
      "[ 0.7  0.3  0.7 -0.1]\n"
     ]
    }
   ],
   "source": [
    "e4 = np.array([0, 0, 0, 1], dtype=np.float64)\n",
    "x4 = lu_sol(L, U, e4)\n",
    "print(f'x4:\\n{x4}')"
   ]
  },
  {
   "cell_type": "markdown",
   "metadata": {},
   "source": [
    "# Solution 3\n",
    "\n",
    "b = (2, 4, 20, 5) transpose\n",
    "\n",
    "xi is soln to Axi = ei\n",
    "\n",
    "b = 2e1 + 4e2 + 20e3 + 5e4\n",
    "\n",
    "Therefore, using superposition prinicple we can write Ax = b as:\n",
    "\n",
    "A(2x1 + 4x2 + 20x3 + 5x4) = 2e1 + 4e3 + 20e3 + 5e4 = b"
   ]
  },
  {
   "cell_type": "code",
   "execution_count": 23,
   "metadata": {},
   "outputs": [
    {
     "name": "stdout",
     "output_type": "stream",
     "text": [
      "x_sol:\n",
      "[5.3 5.7 3.3 4.1]\n"
     ]
    }
   ],
   "source": [
    "x_sol = 2 * x1 + 4 * x2 + 20 * x3 + 5 * x4\n",
    "\n",
    "print(f'x_sol:\\n{x_sol}')"
   ]
  },
  {
   "cell_type": "code",
   "execution_count": 24,
   "metadata": {},
   "outputs": [
    {
     "data": {
      "text/plain": [
       "array([5.3, 5.7, 3.3, 4.1])"
      ]
     },
     "execution_count": 24,
     "metadata": {},
     "output_type": "execute_result"
    }
   ],
   "source": [
    "# We can verfiy superposition principle like this:\n",
    "np.linalg.solve(A, np.array([2, 4, 20, 5], dtype=np.float64))"
   ]
  },
  {
   "cell_type": "markdown",
   "metadata": {},
   "source": [
    "# Solution 4"
   ]
  },
  {
   "cell_type": "code",
   "execution_count": 25,
   "metadata": {},
   "outputs": [
    {
     "name": "stdout",
     "output_type": "stream",
     "text": [
      "Frobenius norm of A:\n",
      "5.291502622129181\n",
      "\n",
      "p-norm when p = 1 of A:\n",
      "6.0\n",
      "\n",
      "p-norm when p = inf of A:\n",
      "6.0\n",
      "\n"
     ]
    }
   ],
   "source": [
    "# Frobenius norm\n",
    "num_fro = np.linalg.norm(A, ord='fro')\n",
    "print(f'Frobenius norm of A:\\n{num_fro}\\n')\n",
    "\n",
    "# p-norm when p = 1\n",
    "num_p1 = np.linalg.norm(A, ord=1)\n",
    "print(f'p-norm when p = 1 of A:\\n{num_p1}\\n')\n",
    "\n",
    "# p-norm when p = inf\n",
    "num_pinf = np.linalg.norm(A, ord=np.inf)\n",
    "print(f'p-norm when p = inf of A:\\n{num_pinf}\\n')"
   ]
  },
  {
   "cell_type": "markdown",
   "metadata": {},
   "source": [
    "# Solution 5"
   ]
  },
  {
   "cell_type": "code",
   "execution_count": 26,
   "metadata": {},
   "outputs": [
    {
     "name": "stdout",
     "output_type": "stream",
     "text": [
      "Condition number of the matrix A with respect to the 1-norm:\n",
      "12.000000000000004\n",
      "\n"
     ]
    }
   ],
   "source": [
    "# condition number of A wrt 1-norm\n",
    "k1 = np.linalg.cond(A, p=1)\n",
    "print(f'Condition number of the matrix A with respect to the 1-norm:\\n{k1}\\n')"
   ]
  },
  {
   "cell_type": "code",
   "execution_count": 27,
   "metadata": {},
   "outputs": [
    {
     "name": "stdout",
     "output_type": "stream",
     "text": [
      "maxmag(A) with respect to the 1-norm:\n",
      "6.0\n",
      "`\n"
     ]
    }
   ],
   "source": [
    "# maxmag(A) = ||A||\n",
    "mxmag = np.linalg.norm(A, ord=1)\n",
    "print(f'maxmag(A) with respect to the 1-norm:\\n{mxmag}\\n`')"
   ]
  },
  {
   "cell_type": "code",
   "execution_count": 28,
   "metadata": {},
   "outputs": [
    {
     "name": "stdout",
     "output_type": "stream",
     "text": [
      "minmag(A) with respect to the 1-norm:\n",
      "0.49999999999999983\n",
      "\n",
      "minmag(A) with respect to the 1-norm:\n",
      "0.4999999999999999\n",
      "\n"
     ]
    }
   ],
   "source": [
    "# For minmag(A), we use k(A) = maxmag(A) / minmag(A)\n",
    "# which implies, minmag(A) = maxmag(A) / k(A)\n",
    "mnmag = mxmag / k1\n",
    "print(f'minmag(A) with respect to the 1-norm:\\n{mnmag}\\n')\n",
    "\n",
    "# we can also use minmag(A) = 1 / maxmag(A^-1), which gives\n",
    "mnmag = 1 / np.linalg.norm(np.linalg.inv(A), ord=1)\n",
    "print(f'minmag(A) with respect to the 1-norm:\\n{mnmag}\\n')"
   ]
  }
 ],
 "metadata": {
  "kernelspec": {
   "display_name": "base",
   "language": "python",
   "name": "python3"
  },
  "language_info": {
   "codemirror_mode": {
    "name": "ipython",
    "version": 3
   },
   "file_extension": ".py",
   "mimetype": "text/x-python",
   "name": "python",
   "nbconvert_exporter": "python",
   "pygments_lexer": "ipython3",
   "version": "3.12.7"
  }
 },
 "nbformat": 4,
 "nbformat_minor": 2
}
