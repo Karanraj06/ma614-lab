{
 "cells": [
  {
   "cell_type": "markdown",
   "id": "f0ff89be",
   "metadata": {},
   "source": [
    "# Solution (1)"
   ]
  },
  {
   "cell_type": "code",
   "execution_count": 2,
   "id": "5ad38e55",
   "metadata": {},
   "outputs": [],
   "source": [
    "import numpy as np"
   ]
  },
  {
   "cell_type": "code",
   "execution_count": 3,
   "id": "5b8e0f2e",
   "metadata": {},
   "outputs": [],
   "source": [
    "A = np.array([[1, -3, 3], [0, -5, 6], [0, -3, 4]], dtype=np.float64)"
   ]
  },
  {
   "cell_type": "code",
   "execution_count": 4,
   "id": "fb4af451",
   "metadata": {},
   "outputs": [
    {
     "data": {
      "text/plain": [
       "array([[ 1., -3.,  3.],\n",
       "       [ 0., -5.,  6.],\n",
       "       [ 0., -3.,  4.]])"
      ]
     },
     "execution_count": 4,
     "metadata": {},
     "output_type": "execute_result"
    }
   ],
   "source": [
    "A"
   ]
  },
  {
   "cell_type": "markdown",
   "id": "ee50364f",
   "metadata": {},
   "source": [
    "## (i) QR decomposition"
   ]
  },
  {
   "cell_type": "code",
   "execution_count": 5,
   "id": "feb942ae",
   "metadata": {},
   "outputs": [],
   "source": [
    "Q, R = np.linalg.qr(A)"
   ]
  },
  {
   "cell_type": "code",
   "execution_count": 6,
   "id": "a6ba0357",
   "metadata": {},
   "outputs": [
    {
     "name": "stdout",
     "output_type": "stream",
     "text": [
      "Q:\n",
      "[[ 1.          0.          0.        ]\n",
      " [ 0.         -0.85749293 -0.51449576]\n",
      " [ 0.         -0.51449576  0.85749293]]\n",
      "\n",
      "R:\n",
      "[[ 1.         -3.          3.        ]\n",
      " [ 0.          5.83095189 -7.20294058]\n",
      " [ 0.          0.          0.34299717]]\n",
      "\n"
     ]
    }
   ],
   "source": [
    "print(f'Q:\\n{Q}\\n')\n",
    "print(f'R:\\n{R}\\n')"
   ]
  },
  {
   "cell_type": "code",
   "execution_count": 7,
   "id": "7ebf4cc0",
   "metadata": {},
   "outputs": [
    {
     "data": {
      "text/plain": [
       "array([[ 1., -3.,  3.],\n",
       "       [ 0., -5.,  6.],\n",
       "       [ 0., -3.,  4.]])"
      ]
     },
     "execution_count": 7,
     "metadata": {},
     "output_type": "execute_result"
    }
   ],
   "source": [
    "Q @ R"
   ]
  },
  {
   "cell_type": "markdown",
   "id": "6ce80b3e",
   "metadata": {},
   "source": [
    "## (ii) If A is diagonalizable, then express A as A = P DP −1 , where D is a diagonal matrix."
   ]
  },
  {
   "cell_type": "code",
   "execution_count": 8,
   "id": "93371121",
   "metadata": {},
   "outputs": [
    {
     "name": "stdout",
     "output_type": "stream",
     "text": [
      "eigenvalues:\n",
      "[ 1. -2.  1.]\n",
      "\n",
      "eigenvectors:\n",
      "[[ 1.         -0.40824829  0.        ]\n",
      " [ 0.         -0.81649658 -0.70710678]\n",
      " [ 0.         -0.40824829 -0.70710678]]\n",
      "\n"
     ]
    }
   ],
   "source": [
    "eigenvalues, eigenvectors = np.linalg.eig(A)\n",
    "\n",
    "print(f'eigenvalues:\\n{eigenvalues}\\n')\n",
    "print(f'eigenvectors:\\n{eigenvectors}\\n')"
   ]
  },
  {
   "cell_type": "code",
   "execution_count": null,
   "id": "9b84d806",
   "metadata": {},
   "outputs": [
    {
     "name": "stdout",
     "output_type": "stream",
     "text": [
      "P:\n",
      "[[ 1.         -0.40824829  0.        ]\n",
      " [ 0.         -0.81649658 -0.70710678]\n",
      " [ 0.         -0.40824829 -0.70710678]]\n",
      "\n",
      "D:\n",
      "[[ 1.  0.  0.]\n",
      " [ 0. -2.  0.]\n",
      " [ 0.  0.  1.]]\n",
      "\n",
      "P_inv:\n",
      "[[ 1.         -1.          1.        ]\n",
      " [-0.         -2.44948974  2.44948974]\n",
      " [-0.          1.41421356 -2.82842712]]\n",
      "\n"
     ]
    }
   ],
   "source": [
    "P = eigenvectors    # A is diagonalizable as eigenvectors form as linearly independent basis of R^3\n",
    "D = np.diag(eigenvalues)\n",
    "P_inv = np.linalg.inv(P)\n",
    "\n",
    "print(f'P:\\n{P}\\n')\n",
    "print(f'D:\\n{D}\\n')\n",
    "print(f'P_inv:\\n{P_inv}\\n')"
   ]
  },
  {
   "cell_type": "code",
   "execution_count": 10,
   "id": "178dd176",
   "metadata": {},
   "outputs": [
    {
     "data": {
      "text/plain": [
       "array([[ 1., -3.,  3.],\n",
       "       [ 0., -5.,  6.],\n",
       "       [ 0., -3.,  4.]])"
      ]
     },
     "execution_count": 10,
     "metadata": {},
     "output_type": "execute_result"
    }
   ],
   "source": [
    "# A = P @ D @ P^-1\n",
    "P @ D @ P_inv"
   ]
  },
  {
   "cell_type": "markdown",
   "id": "b035de15",
   "metadata": {},
   "source": [
    "## (iii) Singular Value Decomposition (SVD)"
   ]
  },
  {
   "cell_type": "code",
   "execution_count": 13,
   "id": "f770c606",
   "metadata": {},
   "outputs": [
    {
     "name": "stdout",
     "output_type": "stream",
     "text": [
      "U:\n",
      "[[ 0.4181953   0.90453403  0.08325185]\n",
      " [ 0.76535052 -0.30151134 -0.56862069]\n",
      " [ 0.48923539 -0.30151134  0.81837623]]\n",
      "\n",
      "s:\n",
      "[10.19615242  1.          0.19615242]\n",
      "\n",
      "Vt:\n",
      "[[ 0.04101501 -0.64230549  0.76535052]\n",
      " [ 0.90453403 -0.30151134 -0.30151134]\n",
      " [ 0.42442426  0.70465209  0.56862069]]\n",
      "\n"
     ]
    }
   ],
   "source": [
    "U, s, Vt = np.linalg.svd(A, full_matrices=False)\n",
    "\n",
    "print(f'U:\\n{U}\\n')\n",
    "print(f's:\\n{s}\\n')\n",
    "print(f'Vt:\\n{Vt}\\n')"
   ]
  },
  {
   "cell_type": "code",
   "execution_count": null,
   "id": "ac1e7bde",
   "metadata": {},
   "outputs": [
    {
     "data": {
      "text/plain": [
       "array([[ 1.00000000e+00, -3.00000000e+00,  3.00000000e+00],\n",
       "       [ 2.74997135e-18, -5.00000000e+00,  6.00000000e+00],\n",
       "       [ 3.55028220e-17, -3.00000000e+00,  4.00000000e+00]])"
      ]
     },
     "execution_count": 14,
     "metadata": {},
     "output_type": "execute_result"
    }
   ],
   "source": [
    "# sigma = np.diag(s)\n",
    "# A = U @ sigma @ Vt\n",
    "U @ np.diag(s) @ Vt"
   ]
  },
  {
   "cell_type": "markdown",
   "id": "2419e9d3",
   "metadata": {},
   "source": [
    "# Solution 3"
   ]
  },
  {
   "cell_type": "code",
   "execution_count": 15,
   "id": "229bcbf2",
   "metadata": {},
   "outputs": [],
   "source": [
    "A = np.array([[2, 1, 0], [1, 3, 1], [0, 1, 2]], dtype=np.float64)\n",
    "B = np.array([[1, 0, 1], [0, 1, 0], [1, 0, 1]], dtype=np.float64)\n",
    "C = np.array([[1, 2, 0], [0, 1, 1], [2, 0, 1]], dtype=np.float64)\n",
    "D = np.array([[4, 1, 0], [1, 4, 1], [0, 1, 3]], dtype=np.float64)"
   ]
  },
  {
   "cell_type": "code",
   "execution_count": 17,
   "id": "0201f812",
   "metadata": {},
   "outputs": [
    {
     "name": "stdout",
     "output_type": "stream",
     "text": [
      "det_A: 8.000000000000002\n",
      "\n"
     ]
    }
   ],
   "source": [
    "det_A = np.linalg.det(A)\n",
    "# So, A is invertible\n",
    "print(f'det_A: {det_A}\\n')"
   ]
  },
  {
   "cell_type": "code",
   "execution_count": 18,
   "id": "0ca1e9e3",
   "metadata": {},
   "outputs": [],
   "source": [
    "f = np.array([1, 2, 3], dtype=np.float64)\n",
    "g = np.array([4, 5, 6], dtype=np.float64)"
   ]
  },
  {
   "cell_type": "code",
   "execution_count": 19,
   "id": "0576e977",
   "metadata": {},
   "outputs": [],
   "source": [
    "A_inv = np.linalg.inv(A)\n",
    "\n",
    "schur_complement_A = D - C @ A_inv @ B\n",
    "\n",
    "schur_complement_A_inv = np.linalg.inv(schur_complement_A)"
   ]
  },
  {
   "cell_type": "code",
   "execution_count": 20,
   "id": "f2af8cbe",
   "metadata": {},
   "outputs": [
    {
     "name": "stdout",
     "output_type": "stream",
     "text": [
      "x:\n",
      "[-5.54545455  4.24242424 -4.54545455]\n",
      "\n",
      "y:\n",
      "[ 0.42424242 -0.63636364  7.42424242]\n",
      "\n"
     ]
    }
   ],
   "source": [
    "y = schur_complement_A_inv @ (g - C @ A_inv @ f)\n",
    "x = A_inv @ (f - B @ y)\n",
    "\n",
    "print(f'x:\\n{x}\\n')\n",
    "print(f'y:\\n{y}\\n')"
   ]
  },
  {
   "cell_type": "markdown",
   "id": "6571ef0a",
   "metadata": {},
   "source": [
    "# Solution 2"
   ]
  },
  {
   "cell_type": "code",
   "execution_count": null,
   "id": "750b15f1",
   "metadata": {},
   "outputs": [],
   "source": [
    "def f(n):\n",
    "    '''\n",
    "    f(n) is used to calculate y_n for given x_n\n",
    "    we'll take n = -8 to 8 (we don't start from 0 to account for -ve x)\n",
    "    '''\n",
    "    return np.sin((n * np.pi) / 8)"
   ]
  },
  {
   "cell_type": "code",
   "execution_count": null,
   "id": "266e5520",
   "metadata": {},
   "outputs": [
    {
     "data": {
      "text/plain": [
       "array([-1.22464680e-16, -3.82683432e-01, -7.07106781e-01, -9.23879533e-01,\n",
       "       -1.00000000e+00, -9.23879533e-01, -7.07106781e-01, -3.82683432e-01,\n",
       "        0.00000000e+00,  3.82683432e-01,  7.07106781e-01,  9.23879533e-01,\n",
       "        1.00000000e+00,  9.23879533e-01,  7.07106781e-01,  3.82683432e-01,\n",
       "        1.22464680e-16])"
      ]
     },
     "execution_count": 43,
     "metadata": {},
     "output_type": "execute_result"
    }
   ],
   "source": [
    "b = [f(n) for n in range(-8, 9, 1)] # b's are the y values\n",
    "b = np.array(b, dtype=np.float64)\n",
    "b"
   ]
  },
  {
   "cell_type": "code",
   "execution_count": null,
   "id": "6114fd3d",
   "metadata": {},
   "outputs": [],
   "source": [
    "A = []\n",
    "for n in range(-8, 9, 1):\n",
    "    a = []\n",
    "    x = (n * np.pi) / 8\n",
    "    for i in range(0, 6):\n",
    "        a.append(x**i)\n",
    "    A.append(a)\n",
    "\n",
    "A = np.array(A, dtype=np.float64) # each row corresponds to each x_n"
   ]
  },
  {
   "cell_type": "code",
   "execution_count": null,
   "id": "56752541",
   "metadata": {},
   "outputs": [],
   "source": [
    "def lss(A, b):\n",
    "    '''\n",
    "    Uses pseudo inverse of A (obtained from SVD) to get LSS\n",
    "    x* (lss) = A_pinv @ b\n",
    "    '''\n",
    "    U, s, Vt = np.linalg.svd(A)\n",
    "    m, n = A.shape\n",
    "    s_inv = np.zeros((n, m), dtype=np.float64)\n",
    "    for i in range(len(s)):\n",
    "        if s[i] > 1e-8:\n",
    "            s_inv[i, i] = 1.0 / s[i]\n",
    "    \n",
    "    A_pinv = Vt.T @ s_inv @ U.T\n",
    "    \n",
    "    x = A_pinv @ b\n",
    "\n",
    "    return x"
   ]
  },
  {
   "cell_type": "code",
   "execution_count": 51,
   "id": "eddd2422",
   "metadata": {},
   "outputs": [],
   "source": [
    "x = lss(A, b)"
   ]
  },
  {
   "cell_type": "code",
   "execution_count": null,
   "id": "a4a2a3a6",
   "metadata": {},
   "outputs": [
    {
     "name": "stdout",
     "output_type": "stream",
     "text": [
      "x:\n",
      "[-7.07312037e-15  9.85486423e-01  2.15035896e-15 -1.53808246e-01\n",
      " -1.70192204e-16  5.47847427e-03]\n",
      "\n"
     ]
    }
   ],
   "source": [
    "print(f'x:\\n{x}\\n') # These are the coeffs' of the 5th degree polynomial from a_0 to a_5"
   ]
  },
  {
   "cell_type": "markdown",
   "id": "6e3f02dd",
   "metadata": {},
   "source": [
    "## Problem (2) Final Answer\n",
    "\n",
    "Take f(x) = a0 + a1 * x + a2 * x^2 + a3 * x^3 + a4 * x^4 + a5 * x^5\n",
    "\n",
    "x:\n",
    "[-7.07312037e-15  9.85486423e-01  2.15035896e-15 -1.53808246e-01\n",
    " -1.70192204e-16  5.47847427e-03] = (a0, a1, a2, a3, a4, a5)"
   ]
  },
  {
   "cell_type": "code",
   "execution_count": 56,
   "id": "5503d888",
   "metadata": {},
   "outputs": [],
   "source": [
    "# check\n",
    "def f1(c):\n",
    "    res = 0\n",
    "    for i in range(6):\n",
    "        res += (c**i) * x[i]\n",
    "    return res"
   ]
  },
  {
   "cell_type": "code",
   "execution_count": null,
   "id": "ffd997f0",
   "metadata": {},
   "outputs": [
    {
     "data": {
      "text/plain": [
       "0.930571791752186"
      ]
     },
     "execution_count": 57,
     "metadata": {},
     "output_type": "execute_result"
    }
   ],
   "source": [
    "f1((5 * np.pi) / 8) # which almost matches for n = 5"
   ]
  },
  {
   "cell_type": "code",
   "execution_count": 58,
   "id": "ba61d549",
   "metadata": {},
   "outputs": [
    {
     "data": {
      "text/plain": [
       "0.7079132194983795"
      ]
     },
     "execution_count": 58,
     "metadata": {},
     "output_type": "execute_result"
    }
   ],
   "source": [
    "f1((6 * np.pi) / 8) # which almost matches for n = 6"
   ]
  },
  {
   "cell_type": "code",
   "execution_count": null,
   "id": "4fa177e0",
   "metadata": {},
   "outputs": [],
   "source": []
  }
 ],
 "metadata": {
  "kernelspec": {
   "display_name": "Python 3",
   "language": "python",
   "name": "python3"
  },
  "language_info": {
   "codemirror_mode": {
    "name": "ipython",
    "version": 3
   },
   "file_extension": ".py",
   "mimetype": "text/x-python",
   "name": "python",
   "nbconvert_exporter": "python",
   "pygments_lexer": "ipython3",
   "version": "3.8.10"
  }
 },
 "nbformat": 4,
 "nbformat_minor": 5
}
