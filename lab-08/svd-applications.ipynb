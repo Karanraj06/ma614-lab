{
 "cells": [
  {
   "cell_type": "code",
   "execution_count": 9,
   "metadata": {},
   "outputs": [],
   "source": [
    "import matplotlib.pyplot as plt\n",
    "import numpy as np\n",
    "\n",
    "from numpy.typing import NDArray"
   ]
  },
  {
   "cell_type": "code",
   "execution_count": 10,
   "metadata": {},
   "outputs": [],
   "source": [
    "def pseudoinverse(A: NDArray[np.float64]) -> NDArray[np.float64]:\n",
    "    \"\"\"\n",
    "    Computes the pseudoinverse of a matrix A using SVD.\n",
    "    \"\"\"\n",
    "    m, n = A.shape\n",
    "    U, s, Vt = np.linalg.svd(A)\n",
    "    s_inv = np.zeros((n, m), dtype=np.float64)\n",
    "    for i in range(len(s)):\n",
    "        if s[i] > 1e-8:\n",
    "            s_inv[i, i] = 1.0 / s[i]\n",
    "\n",
    "    return Vt.T @ s_inv @ U.T"
   ]
  },
  {
   "cell_type": "code",
   "execution_count": 11,
   "metadata": {},
   "outputs": [
    {
     "name": "stdout",
     "output_type": "stream",
     "text": [
      "Original matrix A:\n",
      "[[2. 4.]\n",
      " [1. 3.]\n",
      " [0. 0.]]\n",
      "Pseudoinverse of A:\n",
      "[[ 1.5 -2.   0. ]\n",
      " [-0.5  1.   0. ]]\n"
     ]
    }
   ],
   "source": [
    "A = np.array([[2, 4], [1, 3], [0, 0]], dtype=np.float64)\n",
    "A_pinv = pseudoinverse(A)\n",
    "\n",
    "print(\"Original matrix A:\")\n",
    "print(A)\n",
    "print(\"Pseudoinverse of A:\")\n",
    "print(A_pinv)"
   ]
  },
  {
   "cell_type": "code",
   "execution_count": null,
   "metadata": {},
   "outputs": [],
   "source": [
    "def lss(A: NDArray[np.float64], b: NDArray[np.float64]) -> NDArray[np.float64]:\n",
    "    \"\"\"\n",
    "    Computes the least squares solution to the system Ax = b.\"\n",
    "    \"\"\"\n",
    "    A_pinv = pseudoinverse(A)\n",
    "    return A_pinv @ b"
   ]
  },
  {
   "cell_type": "code",
   "execution_count": 13,
   "metadata": {},
   "outputs": [
    {
     "name": "stdout",
     "output_type": "stream",
     "text": [
      "Solution x to the least squares problem Ax = b:\n",
      "[0.5 0. ]\n"
     ]
    }
   ],
   "source": [
    "A = np.array([[2, 3], [4, 5], [6, 7]], dtype=np.float64)\n",
    "b = np.array([1, 2, 3], dtype=np.float64)\n",
    "x = lss(A, b)\n",
    "print(\"Solution x to the least squares problem Ax = b:\")\n",
    "print(x)"
   ]
  },
  {
   "cell_type": "code",
   "execution_count": null,
   "metadata": {},
   "outputs": [],
   "source": [
    "def pca(X: NDArray[np.float64], L: int) -> NDArray[np.float64]:\n",
    "    \"\"\"\n",
    "    Computes the PCA of the data matrix X and returns the first k principal components.\n",
    "    \"\"\"\n",
    "    N, D = X.shape\n",
    "    X_c = X - np.mean(X, axis=0)    # Broadcasting\n",
    "    U, s, Vt = np.linalg.svd(X_c, full_matrices=False)\n",
    "\n",
    "    # Eigenvalues and Eigenvectors of the covariance matrix\n",
    "    eigenvectors = Vt[:L]\n",
    "    eigenvalues = s[:L] ** 2 / (N - 1)\n",
    "\n",
    "    W = eigenvectors.T\n",
    "    Z = X_c @ W\n",
    "\n",
    "    return Z, eigenvalues, eigenvectors"
   ]
  },
  {
   "cell_type": "code",
   "execution_count": 15,
   "metadata": {},
   "outputs": [
    {
     "name": "stdout",
     "output_type": "stream",
     "text": [
      "PCA transformed data Z:\n",
      "[[ 0.03663356 -0.07355037]\n",
      " [-0.1403412   0.08075599]\n",
      " [-0.19597676 -0.19719992]\n",
      " [ 0.1385564   0.03273801]\n",
      " [ 0.60427013 -0.04559457]\n",
      " [-0.49555553  0.60316904]\n",
      " [-0.22051144 -0.45106603]\n",
      " [-0.24137611 -0.17674101]\n",
      " [ 0.40576099  0.43900806]\n",
      " [ 0.10853997 -0.2115192 ]]\n",
      "Eigenvalues:\n",
      "[0.10807453 0.09888321]\n",
      "Eigenvectors:\n",
      "[[-0.00296404  0.477063   -0.8788641 ]\n",
      " [-0.76811634 -0.56383081 -0.30346681]]\n"
     ]
    }
   ],
   "source": [
    "np.random.seed(0)\n",
    "X = np.random.rand(10, 3)\n",
    "L = 2\n",
    "Z, eigenvalues, eigenvectors = pca(X, L)\n",
    "print(\"PCA transformed data Z:\")\n",
    "print(Z)\n",
    "print(\"Eigenvalues:\")\n",
    "print(eigenvalues)\n",
    "print(\"Eigenvectors:\")\n",
    "print(eigenvectors)"
   ]
  },
  {
   "cell_type": "code",
   "execution_count": 19,
   "metadata": {},
   "outputs": [
    {
     "data": {
      "image/png": "[encoded data removed]",
      "text/plain": [
       "<Figure size 640x480 with 1 Axes>"
      ]
     },
     "metadata": {},
     "output_type": "display_data"
    }
   ],
   "source": [
    "plt.scatter(Z[:, 0], Z[:, 1])\n",
    "plt.title(\"PCA transformed data\")\n",
    "plt.xlabel(\"First Principal Component\")\n",
    "plt.ylabel(\"Second Principal Component\")\n",
    "plt.grid()\n",
    "plt.show()"
   ]
  }
 ],
 "metadata": {
  "kernelspec": {
   "display_name": ".venv",
   "language": "python",
   "name": "python3"
  },
  "language_info": {
   "codemirror_mode": {
    "name": "ipython",
    "version": 3
   },
   "file_extension": ".py",
   "mimetype": "text/x-python",
   "name": "python",
   "nbconvert_exporter": "python",
   "pygments_lexer": "ipython3",
   "version": "3.13.0"
  }
 },
 "nbformat": 4,
 "nbformat_minor": 2
}
