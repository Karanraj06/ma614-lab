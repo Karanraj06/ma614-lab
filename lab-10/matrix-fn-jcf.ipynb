{
 "cells": [
  {
   "cell_type": "markdown",
   "id": "5b1bd43f",
   "metadata": {},
   "source": [
    "# Matrix Functions via Taylor Series"
   ]
  },
  {
   "cell_type": "markdown",
   "id": "0acf2e95",
   "metadata": {},
   "source": [
    "## When A is diagonalizable"
   ]
  },
  {
   "cell_type": "code",
   "execution_count": 1,
   "id": "1c7df6ce",
   "metadata": {},
   "outputs": [],
   "source": [
    "from sympy import Matrix"
   ]
  },
  {
   "cell_type": "code",
   "execution_count": 2,
   "id": "61c95ba0",
   "metadata": {},
   "outputs": [
    {
     "data": {
      "text/latex": [
       "$\\displaystyle \\left[\\begin{matrix}e & 0\\\\0 & e^{2}\\end{matrix}\\right]$"
      ],
      "text/plain": [
       "Matrix([\n",
       "[E,      0],\n",
       "[0, exp(2)]])"
      ]
     },
     "execution_count": 2,
     "metadata": {},
     "output_type": "execute_result"
    }
   ],
   "source": [
    "A = Matrix([[1, 2], [0, 2]])\n",
    "\n",
    "P, D = A.diagonalize()\n",
    "\n",
    "expD = D.exp()\n",
    "\n",
    "expD"
   ]
  },
  {
   "cell_type": "code",
   "execution_count": 3,
   "id": "3e699bf2",
   "metadata": {},
   "outputs": [
    {
     "data": {
      "text/latex": [
       "$\\displaystyle \\left[\\begin{matrix}e & - 2 e + 2 e^{2}\\\\0 & e^{2}\\end{matrix}\\right]$"
      ],
      "text/plain": [
       "Matrix([\n",
       "[E, -2*E + 2*exp(2)],\n",
       "[0,          exp(2)]])"
      ]
     },
     "execution_count": 3,
     "metadata": {},
     "output_type": "execute_result"
    }
   ],
   "source": [
    "expA = P * expD * P.inv()\n",
    "\n",
    "expA"
   ]
  },
  {
   "cell_type": "markdown",
   "id": "252c4677",
   "metadata": {},
   "source": [
    "## Using Jordan Canonical Form"
   ]
  },
  {
   "cell_type": "code",
   "execution_count": 6,
   "id": "2c40923f",
   "metadata": {},
   "outputs": [
    {
     "data": {
      "text/latex": [
       "$\\displaystyle \\left[\\begin{matrix}e^{5} & e^{5}\\\\0 & e^{5}\\end{matrix}\\right]$"
      ],
      "text/plain": [
       "Matrix([\n",
       "[exp(5), exp(5)],\n",
       "[     0, exp(5)]])"
      ]
     },
     "execution_count": 6,
     "metadata": {},
     "output_type": "execute_result"
    }
   ],
   "source": [
    "A = Matrix([[5, 1], [0, 5]])\n",
    "\n",
    "P, J = A.jordan_form()\n",
    "\n",
    "expJ = J.exp()\n",
    "\n",
    "expJ"
   ]
  },
  {
   "cell_type": "code",
   "execution_count": 7,
   "id": "d130adb8",
   "metadata": {},
   "outputs": [
    {
     "data": {
      "text/latex": [
       "$\\displaystyle \\left[\\begin{matrix}e^{5} & e^{5}\\\\0 & e^{5}\\end{matrix}\\right]$"
      ],
      "text/plain": [
       "Matrix([\n",
       "[exp(5), exp(5)],\n",
       "[     0, exp(5)]])"
      ]
     },
     "execution_count": 7,
     "metadata": {},
     "output_type": "execute_result"
    }
   ],
   "source": [
    "expA = P * expJ * P.inv()\n",
    "\n",
    "expA"
   ]
  },
  {
   "cell_type": "markdown",
   "id": "b8fc48ae",
   "metadata": {},
   "source": [
    "## Solving Systems of Linear Ordinary Differential Equations"
   ]
  },
  {
   "cell_type": "code",
   "execution_count": null,
   "id": "9a1a247d",
   "metadata": {},
   "outputs": [
    {
     "data": {
      "text/latex": [
       "$\\displaystyle \\left[\\begin{matrix}e^{5 t} & t e^{5 t}\\\\0 & e^{5 t}\\end{matrix}\\right]$"
      ],
      "text/plain": [
       "Matrix([\n",
       "[exp(5*t), t*exp(5*t)],\n",
       "[       0,   exp(5*t)]])"
      ]
     },
     "execution_count": 9,
     "metadata": {},
     "output_type": "execute_result"
    }
   ],
   "source": [
    "from sympy import symbols\n",
    "\n",
    "t = symbols(\"t\")\n",
    "\n",
    "A = Matrix([[5, 1], [0, 5]])\n",
    "\n",
    "y_0 = Matrix([[0], [1]])\n",
    "\n",
    "P, J = A.jordan_form()\n",
    "\n",
    "Jt = J * t\n",
    "\n",
    "expJt = Jt.exp()\n",
    "\n",
    "expJt"
   ]
  },
  {
   "cell_type": "code",
   "execution_count": null,
   "id": "e5f34304",
   "metadata": {},
   "outputs": [
    {
     "data": {
      "text/latex": [
       "$\\displaystyle \\left[\\begin{matrix}t e^{5 t}\\\\e^{5 t}\\end{matrix}\\right]$"
      ],
      "text/plain": [
       "Matrix([\n",
       "[t*exp(5*t)],\n",
       "[  exp(5*t)]])"
      ]
     },
     "execution_count": 10,
     "metadata": {},
     "output_type": "execute_result"
    }
   ],
   "source": [
    "y = P * expJt * P.inv() * y_0\n",
    "y"
   ]
  }
 ],
 "metadata": {
  "kernelspec": {
   "display_name": ".venv",
   "language": "python",
   "name": "python3"
  },
  "language_info": {
   "codemirror_mode": {
    "name": "ipython",
    "version": 3
   },
   "file_extension": ".py",
   "mimetype": "text/x-python",
   "name": "python",
   "nbconvert_exporter": "python",
   "pygments_lexer": "ipython3",
   "version": "3.13.0"
  }
 },
 "nbformat": 4,
 "nbformat_minor": 5
}
